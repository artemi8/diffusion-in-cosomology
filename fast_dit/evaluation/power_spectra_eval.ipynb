{
 "cells": [
  {
   "cell_type": "code",
   "execution_count": 1,
   "metadata": {},
   "outputs": [
    {
     "ename": "ModuleNotFoundError",
     "evalue": "No module named 'Pk_library'",
     "output_type": "error",
     "traceback": [
      "\u001b[1;31m---------------------------------------------------------------------------\u001b[0m",
      "\u001b[1;31mModuleNotFoundError\u001b[0m                       Traceback (most recent call last)",
      "Cell \u001b[1;32mIn[1], line 2\u001b[0m\n\u001b[0;32m      1\u001b[0m \u001b[38;5;28;01mimport\u001b[39;00m \u001b[38;5;21;01mnumpy\u001b[39;00m \u001b[38;5;28;01mas\u001b[39;00m \u001b[38;5;21;01mnp\u001b[39;00m\n\u001b[1;32m----> 2\u001b[0m \u001b[38;5;28;01mimport\u001b[39;00m \u001b[38;5;21;01mPk_library\u001b[39;00m \u001b[38;5;28;01mas\u001b[39;00m \u001b[38;5;21;01mPKL\u001b[39;00m\n\u001b[0;32m      3\u001b[0m \u001b[38;5;28;01mimport\u001b[39;00m \u001b[38;5;21;01margparse\u001b[39;00m\n\u001b[0;32m      4\u001b[0m \u001b[38;5;28;01mimport\u001b[39;00m \u001b[38;5;21;01mcv2\u001b[39;00m\n",
      "\u001b[1;31mModuleNotFoundError\u001b[0m: No module named 'Pk_library'"
     ]
    }
   ],
   "source": [
    "import numpy as np\n",
    "import Pk_library as PKL\n",
    "import argparse\n",
    "import cv2\n",
    "import matplotlib.pyplot as plt\n"
   ]
  },
  {
   "cell_type": "code",
   "execution_count": null,
   "metadata": {},
   "outputs": [],
   "source": [
    "\n",
    "def get_power_spectra(filepath, box_size, MAS, array=False):\n",
    "# parameters\n",
    "#     delta = Image.open(image_path)\n",
    "#     delta = delta.convert(\"RGB\")\n",
    "#     delta = np.array(delta.resize((256, 256), Image.LANCZOS))\n",
    "#     delta = cv2.imread(filepath, 0).astype('float32')\n",
    "    if array:\n",
    "        delta = filepath\n",
    "    else:\n",
    "        delta = np.load(filepath)\n",
    "\n",
    "#     grid    = 256     #the map will have grid^2 pixels\n",
    "    BoxSize = box_size #1000.0  #Mpc/h\n",
    "    MAS     = MAS #MAS used to create the image; 'NGP', 'CIC', 'TSC', 'PCS' o 'None'\n",
    "    threads = 1       #number of openmp threads\n",
    "\n",
    "    \n",
    "\n",
    "    # create an empty image\n",
    "    # delta = np.zeros((grid,grid), dtype=np.float32)\n",
    "\n",
    "    # compute the Pk of that image\n",
    "    Pk2D = PKL.Pk_plane(delta, BoxSize, MAS, threads)\n",
    "\n",
    "    # get the attributes of the routine\n",
    "    k      = Pk2D.k      #k in h/Mpc\n",
    "    Pk     = Pk2D.Pk     #Pk in (Mpc/h)^2\n",
    "    Nmodes = Pk2D.Nmodes #Number of modes in the different k bins\n",
    "#     print(f'k : {Pk2D.k} h/Mpc')\n",
    "#     print(f'Pk : {Pk2D.Pk} (Mpc/h)^2')\n",
    "#     print(f'Nmodes : {Pk2D.Nmodes} Number of modes in the different k bins')\n",
    "    \n",
    "    return k, Pk, Nmodes\n"
   ]
  },
  {
   "cell_type": "code",
   "execution_count": null,
   "metadata": {},
   "outputs": [],
   "source": [
    "\n",
    "def compare_power_spectra(image_path1, image_path2, box_size, MAS, array=False):\n",
    "    k1, Pk1, _ = get_power_spectra(image_path1, box_size, MAS, array=array)\n",
    "    k2, Pk2, _ = get_power_spectra(image_path2, box_size, MAS, array=array)\n",
    "    \n",
    "    plt.figure()\n",
    "    plt.loglog(k1, Pk1, label='Original')\n",
    "    plt.loglog(k2, Pk2, label='Generated', linestyle='--')\n",
    "    plt.xlabel('k (h/Mpc)')\n",
    "    plt.ylabel('Power Spectrum P(k) [(Mpc/h)^2]')\n",
    "    plt.legend()\n",
    "    plt.show()"
   ]
  }
 ],
 "metadata": {
  "kernelspec": {
   "display_name": "diffusion_model_for_cosmological_data-AiLvb8yc-py3.9",
   "language": "python",
   "name": "python3"
  },
  "language_info": {
   "codemirror_mode": {
    "name": "ipython",
    "version": 3
   },
   "file_extension": ".py",
   "mimetype": "text/x-python",
   "name": "python",
   "nbconvert_exporter": "python",
   "pygments_lexer": "ipython3",
   "version": "3.9.2"
  }
 },
 "nbformat": 4,
 "nbformat_minor": 2
}
