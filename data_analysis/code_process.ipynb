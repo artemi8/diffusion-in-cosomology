{
 "cells": [
  {
   "cell_type": "markdown",
   "metadata": {},
   "source": [
    "Snapshot\n"
   ]
  },
  {
   "cell_type": "code",
   "execution_count": null,
   "metadata": {},
   "outputs": [],
   "source": [
    "import numpy as np\n",
    "import readgadget\n",
    "import MAS_library as MASL\n",
    "import os\n",
    "\n",
    "def process_and_save_snapshot(snapshot, save_path, grid=512, MAS='CIC', ptype=[1]):\n",
    "    # Read header\n",
    "    header = readgadget.header(snapshot)\n",
    "    BoxSize = header.boxsize / 1e3  # Mpc/h\n",
    "    Masses = header.massarr * 1e10  # Masses of the particles in Msun/h\n",
    "\n",
    "    # Read positions of the particles\n",
    "    pos = readgadget.read_block(snapshot, \"POS \", ptype) / 1e3  # positions in Mpc/h\n",
    "    \n",
    "    # Create density field\n",
    "    delta = np.zeros((grid, grid, grid), dtype=np.float32)\n",
    "    MASL.MA(pos, delta, BoxSize, MAS, verbose=False)\n",
    "    delta *= Masses[1]\n",
    "\n",
    "    # Compute mean density for the first 5 slices along the first axis\n",
    "    mean_density = np.mean(delta[:5, :, :], axis=0)\n",
    "\n",
    "    # Extract particles in the first 10 Mpc/h region along the x-axis\n",
    "    indexes = np.where((pos[:, 0] < 10))\n",
    "    pos_slide = pos[indexes]\n",
    "\n",
    "    # Ensure the save path exists\n",
    "    os.makedirs(save_path, exist_ok=True)\n",
    "\n",
    "    # Save the numpy arrays\n",
    "    np.save(os.path.join(save_path, 'mean_density.npy'), mean_density)\n",
    "    np.save(os.path.join(save_path, 'pos_slide.npy'), pos_slide)\n",
    "\n",
    "# Example usage:\n",
    "snapshot_path = '/home/jovyan/Data/Snapshots/fiducial/0/snapdir_004/snap_004'\n",
    "save_path = './data'\n",
    "process_and_save_snapshot(snapshot_path, save_path)\n"
   ]
  },
  {
   "cell_type": "markdown",
   "metadata": {},
   "source": []
  },
  {
   "cell_type": "code",
   "execution_count": null,
   "metadata": {},
   "outputs": [],
   "source": [
    "import os\n",
    "import numpy as np\n",
    "import matplotlib.pyplot as plt\n",
    "from matplotlib.pyplot import figure\n",
    "import readgadget  # Assuming readgadget is a module for reading gadget files\n",
    "import MAS_library as MASL  # Assuming MAS_library is a module for mass-assignment schemes\n",
    "\n",
    "def get_image(path, output_path='./2d_images'):\n",
    "    # Extract the base path\n",
    "    base_path = '/'.join(path.split('/')[:4])\n",
    "\n",
    "    add_path = 'snapdir_004/snap_004'\n",
    "    \n",
    "    final_path = os.path.join(base_path, add_path)\n",
    "    snapshot = final_path\n",
    "    grid = 512    # the density field will have grid^3 voxels\n",
    "    MAS = 'CIC'   # Mass-assignment scheme: 'NGP', 'CIC', 'TSC', 'PCS'\n",
    "    verbose = True  # whether to print information about the progress\n",
    "    ptype = [1]     # [1](CDM), [2](neutrinos) or [1,2](CDM+neutrinos)\n",
    "    \n",
    "    header = readgadget.header(snapshot)\n",
    "    BoxSize = header.boxsize / 1e3  # Mpc/h\n",
    "    redshift = header.redshift  # redshift of the snapshot\n",
    "    Masses = header.massarr * 1e10  # Masses of the particles in Msun/h\n",
    "\n",
    "    # Read positions, velocities, and IDs of the particles\n",
    "    pos = readgadget.read_block(snapshot, \"POS \", ptype) / 1e3  # positions in Mpc/h\n",
    "    \n",
    "    delta = np.zeros((grid, grid, grid), dtype=np.float32)\n",
    "    MASL.MA(pos, delta, BoxSize, MAS, verbose=verbose)\n",
    "    delta *= Masses[1]\n",
    "    mean_density = np.mean(delta[:5, :, :], axis=0)  # Take the first 5 components along the first axis and compute the mean value\n",
    "    \n",
    "    fig = figure(figsize=(20, 10))\n",
    "    ax1 = plt.imshow(mean_density.T, cmap='gnuplot', vmin=0.0, vmax=1e13, origin='lower')\n",
    "    plt.colorbar(ax1)\n",
    "    \n",
    "    # Ensure the output directory exists\n",
    "    os.makedirs(output_path, exist_ok=True)\n",
    "    \n",
    "    # Save the generated image\n",
    "    plt.savefig(os.path.join(output_path, f'{base_path.replace(\"/\", \"_\")}_image.png'))\n",
    "    plt.show()\n",
    "\n",
    "# Example usage\n",
    "get_image('data/Snapshots/fiducial/12030/snapdir_004')\n"
   ]
  },
  {
   "cell_type": "code",
   "execution_count": null,
   "metadata": {},
   "outputs": [],
   "source": []
  },
  {
   "cell_type": "code",
   "execution_count": null,
   "metadata": {},
   "outputs": [],
   "source": []
  },
  {
   "cell_type": "code",
   "execution_count": null,
   "metadata": {},
   "outputs": [],
   "source": []
  },
  {
   "cell_type": "code",
   "execution_count": null,
   "metadata": {},
   "outputs": [],
   "source": []
  }
 ],
 "metadata": {
  "kernelspec": {
   "display_name": "diffusion_model_for_cosmological_data-AiLvb8yc-py3.9",
   "language": "python",
   "name": "python3"
  },
  "language_info": {
   "name": "python",
   "version": "3.9.2"
  }
 },
 "nbformat": 4,
 "nbformat_minor": 2
}
